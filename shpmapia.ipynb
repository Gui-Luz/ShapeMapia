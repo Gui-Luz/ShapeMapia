%matplotlib inline
import requests
import shapefile
import geopandas as gpd
import folium
import matplotlib.pyplot as plt

#Extract from wikimapia
wikimapia_id = 7710456
r = requests.get(f'https://api.wikimapia.org/?key=example&function=place.getbyid&id={wikimapia_id}&format=json&pack=&language=en')
json_data = r.json()
x = [x['x'] for x in json_data['polygon']]
y = [y['y'] for y in json_data['polygon']]

#Save to shp
path = f"shapefiles/{json_data['title']}/{json_data['title']}"
w = shapefile.Writer(f"{path}")
w.field('id', 'N')
w.field('name', 'C')
w.field('description', 'C')
w.poly([list(zip(x, y))])
w.record(f"{json_data['id']}", f"{json_data['title']}", f"{json_data['description']}")
w.close()

#Plot shp
df = gpd.read_file(f"{path}.shp")
f, ax = plt.subplots(1, figsize=(12, 12))
ax = df.plot(ax=ax)
plt.show()